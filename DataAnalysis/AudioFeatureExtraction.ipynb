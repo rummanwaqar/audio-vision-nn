{
 "cells": [
  {
   "cell_type": "code",
   "execution_count": 1,
   "metadata": {},
   "outputs": [],
   "source": [
    "from os import path\n",
    "import torchaudio\n",
    "from torchaudio import transforms\n",
    "import matplotlib.pyplot as plt\n",
    "import pandas as pd\n",
    "import torch\n",
    "\n",
    "import numpy as np"
   ]
  },
  {
   "cell_type": "code",
   "execution_count": 2,
   "metadata": {},
   "outputs": [],
   "source": [
    "from helpers.WavFileHelper import WavFileHelper\n",
    "from helpers.MFCCExtractor import MFCCExtractor"
   ]
  },
  {
   "cell_type": "code",
   "execution_count": 3,
   "metadata": {},
   "outputs": [],
   "source": [
    "base_dir = \"../UrbanSound8K/\"\n",
    "# test_filename = path.join(base_dir, \"audio-dev/train/01_000006.wav\")\n",
    "metadata_file = path.join(base_dir, \"metadata/UrbanSound8K.csv\")"
   ]
  },
  {
   "cell_type": "code",
   "execution_count": 4,
   "metadata": {},
   "outputs": [],
   "source": [
    "# clip, sample_rate = torchaudio.load(test_filename)\n",
    "metadata_df = pd.read_csv(metadata_file)"
   ]
  },
  {
   "cell_type": "code",
   "execution_count": 5,
   "metadata": {},
   "outputs": [
    {
     "name": "stdout",
     "output_type": "stream",
     "text": [
      "(8732, 8)\n"
     ]
    }
   ],
   "source": [
    "print(metadata_df.shape)"
   ]
  },
  {
   "cell_type": "code",
   "execution_count": 6,
   "metadata": {},
   "outputs": [
    {
     "name": "stdout",
     "output_type": "stream",
     "text": [
      "No. of features: 14\n"
     ]
    }
   ],
   "source": [
    "wfh = WavFileHelper()\n",
    "audiodata = []\n",
    "mfccTool = MFCCExtractor()\n",
    "features = []"
   ]
  },
  {
   "cell_type": "code",
   "execution_count": 7,
   "metadata": {},
   "outputs": [],
   "source": [
    "for index, row in metadata_df.iterrows():\n",
    "    file_name = path.join(path.abspath(base_dir),'audio','fold'+str(row[\"fold\"])+'/',str(row[\"slice_file_name\"]))\n",
    "    try:\n",
    "        data = wfh.read_file_properties(file_name)\n",
    "    except:\n",
    "        metadata_df.drop(index)\n",
    "        continue\n",
    "    audiodata.append(data)\n",
    "    "
   ]
  },
  {
   "cell_type": "code",
   "execution_count": 8,
   "metadata": {},
   "outputs": [],
   "source": [
    "audiodf = pd.DataFrame(audiodata, columns=['num_channels','sample_rate','bit_depth'])"
   ]
  },
  {
   "cell_type": "code",
   "execution_count": 9,
   "metadata": {},
   "outputs": [],
   "source": [
    "buf = dict()"
   ]
  },
  {
   "cell_type": "markdown",
   "metadata": {},
   "source": [
    "Next cell is going to take an hour or two to finish running"
   ]
  },
  {
   "cell_type": "code",
   "execution_count": 14,
   "metadata": {},
   "outputs": [
    {
     "name": "stdout",
     "output_type": "stream",
     "text": [
      "Done\n"
     ]
    }
   ],
   "source": [
    "for index, row in metadata_df.iterrows():\n",
    "    path.join(path.abspath(base_dir),'audio','fold'+str(row[\"fold\"])+'/',str(row[\"slice_file_name\"]))\n",
    "    try:\n",
    "        class_name = row[\"class\"]\n",
    "        class_id = row[\"classID\"]\n",
    "        featureData = mfccTool.extract_features(file_name)\n",
    "    except:\n",
    "        metadata_df.drop(index)\n",
    "        continue\n",
    "    a = [tuple([tuple(row) for row in featureData]), class_id, class_name]\n",
    "#     print(a)\n",
    "    buf[str(row[\"slice_file_name\"])] = a\n",
    "#     break\n",
    "    \n",
    "print(\"Done\")"
   ]
  },
  {
   "cell_type": "code",
   "execution_count": 15,
   "metadata": {},
   "outputs": [],
   "source": [
    "featuresdf = pd.DataFrame.from_dict(buf, orient=\"index\", columns=['feature','class_id', 'class_name'])"
   ]
  },
  {
   "cell_type": "code",
   "execution_count": 16,
   "metadata": {},
   "outputs": [
    {
     "name": "stdout",
     "output_type": "stream",
     "text": [
      "                                                              feature  \\\n",
      "100032-3-0-0.wav    ((-153.0675, 92.219986, 24.651207, -1.8961458,...   \n",
      "100263-2-0-117.wav  ((-153.0675, 92.219986, 24.651207, -1.8961458,...   \n",
      "100263-2-0-121.wav  ((-153.0675, 92.219986, 24.651207, -1.8961458,...   \n",
      "100263-2-0-126.wav  ((-153.0675, 92.219986, 24.651207, -1.8961458,...   \n",
      "100263-2-0-137.wav  ((-153.0675, 92.219986, 24.651207, -1.8961458,...   \n",
      "\n",
      "                    class_id        class_name  \n",
      "100032-3-0-0.wav           3          dog_bark  \n",
      "100263-2-0-117.wav         2  children_playing  \n",
      "100263-2-0-121.wav         2  children_playing  \n",
      "100263-2-0-126.wav         2  children_playing  \n",
      "100263-2-0-137.wav         2  children_playing  \n"
     ]
    }
   ],
   "source": [
    "print(featuresdf.head())"
   ]
  },
  {
   "cell_type": "code",
   "execution_count": 17,
   "metadata": {},
   "outputs": [],
   "source": [
    "featuresdf.to_csv(\"8KFeatures.csv\")"
   ]
  },
  {
   "cell_type": "code",
   "execution_count": 1,
   "metadata": {},
   "outputs": [
    {
     "ename": "NameError",
     "evalue": "name 'featuresdf' is not defined",
     "output_type": "error",
     "traceback": [
      "\u001b[0;31m---------------------------------------------------------------------------\u001b[0m",
      "\u001b[0;31mNameError\u001b[0m                                 Traceback (most recent call last)",
      "\u001b[0;32m<ipython-input-1-0ec4978e9d92>\u001b[0m in \u001b[0;36m<module>\u001b[0;34m\u001b[0m\n\u001b[0;32m----> 1\u001b[0;31m \u001b[0mfeaturesdf\u001b[0m\u001b[0;34m[\u001b[0m\u001b[0;34m'feature'\u001b[0m\u001b[0;34m]\u001b[0m\u001b[0;34m\u001b[0m\u001b[0;34m\u001b[0m\u001b[0m\n\u001b[0m",
      "\u001b[0;31mNameError\u001b[0m: name 'featuresdf' is not defined"
     ]
    }
   ],
   "source": []
  },
  {
   "cell_type": "code",
   "execution_count": null,
   "metadata": {},
   "outputs": [],
   "source": []
  }
 ],
 "metadata": {
  "kernelspec": {
   "display_name": "Python 3",
   "language": "python",
   "name": "python3"
  },
  "language_info": {
   "codemirror_mode": {
    "name": "ipython",
    "version": 3
   },
   "file_extension": ".py",
   "mimetype": "text/x-python",
   "name": "python",
   "nbconvert_exporter": "python",
   "pygments_lexer": "ipython3",
   "version": "3.7.3"
  }
 },
 "nbformat": 4,
 "nbformat_minor": 2
}
