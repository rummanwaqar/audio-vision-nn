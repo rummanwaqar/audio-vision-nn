{
 "cells": [
  {
   "cell_type": "code",
   "execution_count": 1,
   "metadata": {},
   "outputs": [],
   "source": [
    "from os import path\n",
    "import torchaudio\n",
    "from torchaudio import transforms\n",
    "import matplotlib.pyplot as plt\n",
    "import pandas as pd\n",
    "import torch"
   ]
  },
  {
   "cell_type": "code",
   "execution_count": 2,
   "metadata": {},
   "outputs": [],
   "source": [
    "from helpers.WavFileHelper import WavFileHelper\n",
    "from helpers.MFCCExtractor import MFCCExtractor"
   ]
  },
  {
   "cell_type": "code",
   "execution_count": 3,
   "metadata": {},
   "outputs": [],
   "source": [
    "base_dir = \"../SONYC\"\n",
    "test_filename = path.join(base_dir, \"audio-dev/train/01_000006.wav\")\n",
    "metadata_file = path.join(base_dir, \"annotations.csv\")"
   ]
  },
  {
   "cell_type": "code",
   "execution_count": 4,
   "metadata": {},
   "outputs": [],
   "source": [
    "clip, sample_rate = torchaudio.load(test_filename)\n",
    "metadata_df = pd.read_csv(metadata_file)"
   ]
  },
  {
   "cell_type": "code",
   "execution_count": 5,
   "metadata": {},
   "outputs": [
    {
     "name": "stdout",
     "output_type": "stream",
     "text": [
      "torch.Size([1, 441000])\n"
     ]
    }
   ],
   "source": [
    "print(clip.size())"
   ]
  },
  {
   "cell_type": "code",
   "execution_count": 6,
   "metadata": {},
   "outputs": [
    {
     "name": "stdout",
     "output_type": "stream",
     "text": [
      "(12461, 70)\n"
     ]
    }
   ],
   "source": [
    "print(metadata_df.shape)"
   ]
  },
  {
   "cell_type": "code",
   "execution_count": 7,
   "metadata": {},
   "outputs": [],
   "source": [
    "wfh = WavFileHelper()\n",
    "audiodata = []\n",
    "mfccTool = MFCCExtractor()\n",
    "features = []"
   ]
  },
  {
   "cell_type": "code",
   "execution_count": null,
   "metadata": {},
   "outputs": [],
   "source": [
    "for index, row in metadata_df.iterrows():\n",
    "    file_name = path.join(path.abspath(base_dir),\"audio-dev\", str(row[\"split\"]),str(row[\"audio_filename\"]))\n",
    "    siren_present = True if row[\"5-3_siren_presence\"] == 1 else False\n",
    "    try:\n",
    "        data = wfh.read_file_properties(file_name)\n",
    "        featureData = mfccTool.extract_features(file_name)\n",
    "    except:\n",
    "        metadata_df.drop(index)\n",
    "        continue\n",
    "    audiodata.append(data)\n",
    "    features.append([featureData, siren_present])"
   ]
  },
  {
   "cell_type": "code",
   "execution_count": null,
   "metadata": {},
   "outputs": [],
   "source": [
    "audiodf = pd.DataFrame(audiodata, columns=['num_channels','sample_rate','bit_depth'])\n",
    "featuresdf = pd.DataFrame(features, columns=['feature','siren_present'])"
   ]
  },
  {
   "cell_type": "code",
   "execution_count": null,
   "metadata": {},
   "outputs": [],
   "source": [
    "print(audiodf.head())"
   ]
  },
  {
   "cell_type": "code",
   "execution_count": null,
   "metadata": {},
   "outputs": [],
   "source": []
  }
 ],
 "metadata": {
  "kernelspec": {
   "display_name": "Python 3",
   "language": "python",
   "name": "python3"
  },
  "language_info": {
   "codemirror_mode": {
    "name": "ipython",
    "version": 3
   },
   "file_extension": ".py",
   "mimetype": "text/x-python",
   "name": "python",
   "nbconvert_exporter": "python",
   "pygments_lexer": "ipython3",
   "version": "3.7.3"
  }
 },
 "nbformat": 4,
 "nbformat_minor": 2
}
