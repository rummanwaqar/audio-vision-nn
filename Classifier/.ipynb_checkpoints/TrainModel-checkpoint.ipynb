{
 "cells": [
  {
   "cell_type": "code",
   "execution_count": 1,
   "metadata": {},
   "outputs": [],
   "source": [
    "import torchaudio\n",
    "import torch\n",
    "from sklearn.preprocessing import LabelEncoder\n",
    "import pandas as pd\n",
    "import numpy as np\n",
    "from ast import literal_eval\n",
    "\n",
    "from helpers.AudioVisionDataset import AudioVisionDataset"
   ]
  },
  {
   "cell_type": "code",
   "execution_count": 2,
   "metadata": {},
   "outputs": [],
   "source": [
    "features_file = \"../DataAnalysis/Features.csv\"\n",
    "featuresdf = pd.read_csv(features_file)"
   ]
  },
  {
   "cell_type": "code",
   "execution_count": 3,
   "metadata": {},
   "outputs": [
    {
     "name": "stdout",
     "output_type": "stream",
     "text": [
      "      Unnamed: 0                                            feature  \\\n",
      "0  00_000066.wav  [-302.4220275878906, 142.6025390625, -19.07164...   \n",
      "1  00_000118.wav  [-355.94866943359375, 144.1094512939453, -8.13...   \n",
      "2  00_000275.wav  [-288.35662841796875, 138.7447509765625, -14.9...   \n",
      "3  00_000277.wav  [-274.3795471191406, 113.51966094970703, -43.6...   \n",
      "4  00_000357.wav  [-355.8924255371094, 166.0321044921875, -28.60...   \n",
      "\n",
      "   siren_present  \n",
      "0          False  \n",
      "1          False  \n",
      "2          False  \n",
      "3           True  \n",
      "4          False  \n"
     ]
    }
   ],
   "source": [
    "#The features are read as a string of the og list, so read the literal value of the list\n",
    "featuresdf['feature'] = featuresdf['feature'].apply(literal_eval)\n",
    "print(featuresdf.head())"
   ]
  },
  {
   "cell_type": "code",
   "execution_count": 4,
   "metadata": {},
   "outputs": [],
   "source": [
    "# Convert features and corresponding classification labels into numpy arrays\n",
    "X = torch.tensor(featuresdf['feature'])\n",
    "y = torch.tensor(featuresdf['siren_present'])\n",
    "\n",
    "num_classes = 2 #Either true or false"
   ]
  },
  {
   "cell_type": "code",
   "execution_count": 5,
   "metadata": {},
   "outputs": [],
   "source": [
    "av_dataset = AudioVisionDataset(features_file)"
   ]
  },
  {
   "cell_type": "code",
   "execution_count": null,
   "metadata": {},
   "outputs": [],
   "source": []
  }
 ],
 "metadata": {
  "kernelspec": {
   "display_name": "Python [conda env:audio-vision] *",
   "language": "python",
   "name": "conda-env-audio-vision-py"
  },
  "language_info": {
   "codemirror_mode": {
    "name": "ipython",
    "version": 3
   },
   "file_extension": ".py",
   "mimetype": "text/x-python",
   "name": "python",
   "nbconvert_exporter": "python",
   "pygments_lexer": "ipython3",
   "version": "3.7.3"
  }
 },
 "nbformat": 4,
 "nbformat_minor": 2
}
